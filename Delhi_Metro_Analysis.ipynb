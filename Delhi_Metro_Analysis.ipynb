{
  "nbformat": 4,
  "nbformat_minor": 0,
  "metadata": {
    "colab": {
      "private_outputs": true,
      "provenance": []
    },
    "kernelspec": {
      "name": "python3",
      "display_name": "Python 3"
    },
    "language_info": {
      "name": "python"
    }
  },
  "cells": [
    {
      "cell_type": "code",
      "execution_count": null,
      "metadata": {
        "id": "NwZ9iJ6cbqmF"
      },
      "outputs": [],
      "source": [
        "import pandas as pd\n",
        "import numpy as np\n",
        "import   folium\n",
        "import  plotly.express as px\n",
        "import plotly.graph_objects as go\n",
        "import plotly.io as pio\n",
        "pio.templates.default = \"plotly_white\"\n"
      ]
    },
    {
      "cell_type": "code",
      "source": [
        "df=pd.read_csv('/content/Delhi-Metro-Network.csv')\n",
        "df"
      ],
      "metadata": {
        "id": "L2r7vSOtbxd3"
      },
      "execution_count": null,
      "outputs": []
    },
    {
      "cell_type": "code",
      "source": [
        "print(df.head())"
      ],
      "metadata": {
        "id": "7YV2tzxycNl7"
      },
      "execution_count": null,
      "outputs": []
    },
    {
      "cell_type": "code",
      "source": [
        "# now  checking the   eda part\n",
        "mv=df.isnull().sum()\n",
        "mv"
      ],
      "metadata": {
        "id": "mrMenvU-ddeB"
      },
      "execution_count": null,
      "outputs": []
    },
    {
      "cell_type": "code",
      "source": [
        "data_types=df.dtypes\n",
        "data_types"
      ],
      "metadata": {
        "id": "Cn9q-Psgey7d"
      },
      "execution_count": null,
      "outputs": []
    },
    {
      "cell_type": "code",
      "source": [
        "df['Opening Date']=pd.to_datetime(df['Opening Date'])"
      ],
      "metadata": {
        "id": "TDDgjvMLfUCr"
      },
      "execution_count": null,
      "outputs": []
    },
    {
      "cell_type": "code",
      "source": [
        "df['Opening Date']"
      ],
      "metadata": {
        "id": "F6hJEESlgS4o"
      },
      "execution_count": null,
      "outputs": []
    },
    {
      "cell_type": "code",
      "source": [
        "# temporal analyis\n",
        "#is the analyis over the  time   ,and how the data changes\n",
        "\n"
      ],
      "metadata": {
        "id": "YCu_j0PXhN43"
      },
      "execution_count": null,
      "outputs": []
    },
    {
      "cell_type": "code",
      "source": [
        "df['Opening Year']=df['Opening Date'].dt.year"
      ],
      "metadata": {
        "id": "FHk0iAZrjato"
      },
      "execution_count": null,
      "outputs": []
    },
    {
      "cell_type": "code",
      "source": [
        "station_per_year=df['Opening Year'].value_counts().sort_index()"
      ],
      "metadata": {
        "id": "55kInLZ3iw_L"
      },
      "execution_count": null,
      "outputs": []
    },
    {
      "cell_type": "code",
      "source": [
        "station_per_year"
      ],
      "metadata": {
        "id": "m8jA-NifjPmt"
      },
      "execution_count": null,
      "outputs": []
    },
    {
      "cell_type": "code",
      "source": [
        "stations_per_year_df = station_per_year.reset_index()\n",
        "stations_per_year_df.columns = ['Year', 'Number of Stations']"
      ],
      "metadata": {
        "id": "AjS9bKnpmBvg"
      },
      "execution_count": null,
      "outputs": []
    },
    {
      "cell_type": "code",
      "source": [
        "stations_per_year_df"
      ],
      "metadata": {
        "id": "Fvgl4DESmQgx"
      },
      "execution_count": null,
      "outputs": []
    },
    {
      "cell_type": "code",
      "source": [
        "df['Opening Year'] = df['Opening Date'].dt.year\n",
        "\n",
        "# counting the number of stations opened each year\n",
        "stations_per_year = df['Opening Year'].value_counts().sort_index()\n",
        "\n",
        "stations_per_year_df = stations_per_year.reset_index()\n",
        "stations_per_year_df.columns = ['Year', 'Number of Stations']\n",
        "\n",
        "fig = px.bar(stations_per_year_df, x='Year', y='Number of Stations',\n",
        "             title=\"Number of Metro Stations Opened Each Year in Delhi\",\n",
        "             labels={'Year': 'Year', 'Number of Stations': 'Number of Stations Opened'})\n",
        "## linear insure all the year data will  come\n",
        "fig.update_layout(xaxis_tickangle=-45,xaxis=dict(tickmode='linear'),\n",
        "                  yaxis=dict(title='Number of Stations Opened in  delhi'),\n",
        "                  xaxis_title=\"Year\")\n",
        "\n",
        "\n",
        "fig.show()"
      ],
      "metadata": {
        "id": "welzuG3dsmaa"
      },
      "execution_count": null,
      "outputs": []
    },
    {
      "cell_type": "code",
      "source": [
        "\n",
        "stations_per_line = df['Line'].value_counts()\n",
        "total_distance_per_line = df.groupby('Line')['Distance from Start (km)'].max()"
      ],
      "metadata": {
        "id": "Cwd1fEYVvd7D"
      },
      "execution_count": null,
      "outputs": []
    },
    {
      "cell_type": "code",
      "source": [
        "df1=stations_per_line.index\n",
        "df1"
      ],
      "metadata": {
        "id": "Yf1KMLyH7rGS"
      },
      "execution_count": null,
      "outputs": []
    },
    {
      "cell_type": "code",
      "source": [
        "stations_per_line = df['Line'].value_counts()\n",
        "\n",
        "# calculating the total distance of each metro line (max distance from start)\n",
        "total_distance_per_line = df.groupby('Line')['Distance from Start (km)'].max()\n",
        "\n",
        "avg_distance_per_line = total_distance_per_line / (stations_per_line - 1)\n",
        "\n",
        "\n",
        "line_analysis = pd.DataFrame({\n",
        "    'Line': stations_per_line.index,\n",
        "    'Number of Stations': stations_per_line.values,\n",
        "    'Average Distance Between Stations (km)': avg_distance_per_line\n",
        "})\n",
        "line_analysis=line_analysis.sort_values(by='Number of Stations',ascending=False)\n",
        "line_analysis.reset_index(drop=True, inplace=True)\n",
        "line_analysis"
      ],
      "metadata": {
        "id": "fOhUOz1w4FL4"
      },
      "execution_count": null,
      "outputs": []
    },
    {
      "cell_type": "code",
      "source": [
        "#station layout analyis\n",
        "laycount=df['Station Layout'].value_counts()\n",
        "laycount"
      ],
      "metadata": {
        "id": "fGrpuf68ToOy"
      },
      "execution_count": null,
      "outputs": []
    },
    {
      "cell_type": "code",
      "source": [
        "#plotting the line\n",
        "fig=px.bar(x=laycount.index,y=laycount.values,\n",
        "           labels={'x': 'Station Layout', 'y': 'Number of Stations'},\n",
        "           title='Distribution of Delhi Metro Station Layouts',\n",
        "           color=laycount.index,\n",
        "            color_continuous_scale='pastel'\n",
        "           )\n",
        "\n",
        "\n",
        "\n",
        "\n",
        "fig.update_layout(xaxis_title=\"Station Layout\",yaxis_title=\"Number of Stations\",coloraxis_showscale=False,\n",
        "                  template=\"plotly_white\"\n",
        "\n",
        ")"
      ],
      "metadata": {
        "id": "fS27p_hwT7Kf"
      },
      "execution_count": null,
      "outputs": []
    }
  ]
}